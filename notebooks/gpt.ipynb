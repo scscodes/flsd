{
 "cells": [
  {
   "cell_type": "code",
   "execution_count": null,
   "metadata": {
    "vscode": {
     "languageId": "plaintext"
    }
   },
   "outputs": [],
   "source": [
    "from sklearn.cluster import KMeans\n",
    "from sklearn.preprocessing import StandardScaler\n",
    "import seaborn as sns\n",
    "\n",
    "# Synthetic example dataset for illustrative purposes\n",
    "data = {\n",
    "    \"District\": [\"Fredericktown\", \"Peer A\", \"Peer B\", \"Peer C\", \"Peer D\"],\n",
    "    \"Instructional_Spend\": [7129, 7500, 6800, 7300, 7200],\n",
    "    \"Admin_Spend\": [452, 500, 480, 470, 460],\n",
    "    \"Support_Spend\": [2960, 3200, 3100, 3050, 2990],\n",
    "    \"Non_Operating_Spend\": [468, 450, 470, 460, 465]\n",
    "}\n",
    "\n",
    "df_expenses = pd.DataFrame(data)\n",
    "\n",
    "# Standardize data for clustering\n",
    "scaler = StandardScaler()\n",
    "expenses_scaled = scaler.fit_transform(df_expenses.iloc[:, 1:])\n",
    "\n",
    "# Perform KMeans clustering\n",
    "kmeans = KMeans(n_clusters=2, random_state=42)\n",
    "df_expenses['Cluster'] = kmeans.fit_predict(expenses_scaled)\n",
    "\n",
    "# Visualization of clustering\n",
    "plt.figure(figsize=(10, 6))\n",
    "sns.scatterplot(x=\"Instructional_Spend\", y=\"Support_Spend\", hue=\"Cluster\", data=df_expenses, palette='Set2', s=100)\n",
    "for i in range(df_expenses.shape[0]):\n",
    "    plt.text(x=df_expenses.Instructional_Spend[i]+20, \n",
    "             y=df_expenses.Support_Spend[i]+20, \n",
    "             s=df_expenses.District[i],\n",
    "             fontdict=dict(color='black',size=10))\n",
    "\n",
    "plt.title(\"District Expense Clustering (Instructional vs Support)\")\n",
    "plt.xlabel(\"Instructional Spend per Pupil\")\n",
    "plt.ylabel(\"Support Spend per Pupil\")\n",
    "plt.grid(True)\n",
    "plt.tight_layout()\n",
    "plt.show()\n",
    "\n",
    "tools.display_dataframe_to_user(name=\"District Expense Clusters\", dataframe=df_expenses)\n"
   ]
  }
 ],
 "metadata": {
  "language_info": {
   "name": "python"
  }
 },
 "nbformat": 4,
 "nbformat_minor": 2
}
